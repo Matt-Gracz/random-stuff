{
 "cells": [
  {
   "cell_type": "code",
   "execution_count": 25,
   "id": "13585354-b452-434a-b5bf-8c4e78fef25d",
   "metadata": {},
   "outputs": [
    {
     "name": "stdout",
     "output_type": "stream",
     "text": [
      "The premise '~A' is well-formed.\n"
     ]
    }
   ],
   "source": [
    "import re\n",
    "\n",
    "def is_well_formed(statement):\n",
    "    # Define the regex patterns for tokens\n",
    "    variable_pattern = r'[A-Z]'  # Matches any single uppercase letter\n",
    "    operator_pattern = r'[&+>^=]'  # Matches any binary logical operator\n",
    "\n",
    "     # Matches any valid token in the inputted statement: a variable, a binary operator, negation, or parens\n",
    "    valid_pattern = rf'{variable_pattern}|{operator_pattern}|[()]|~' \n",
    "\n",
    "    # Tokenize the statement using re.findall\n",
    "    tokens = re.findall(valid_pattern, statement)\n",
    "\n",
    "    # Check if the concatenated tokens match the original statement\n",
    "    if ''.join(tokens) != statement or len(tokens) < 1:\n",
    "        return False\n",
    "    # Ensure we start with an open parens, a negation, or a varaible\n",
    "    if not (re.fullmatch(variable_pattern, tokens[0]) or tokens[0] in ('(', '~')):\n",
    "        return False\n",
    "    # Ensure we end with closed parens or a variable\n",
    "    if not (re.fullmatch(variable_pattern, tokens[-1]) or tokens[-1] == ')'):\n",
    "        return False\n",
    "        \n",
    "    # Additional syntactical checks:\n",
    "    stack = []  # Stack to check balanced parentheses\n",
    "    last_token = ''  # Track the last token to prevent consecutive variables or operators\n",
    "    for i, token in enumerate(tokens):\n",
    "        if token == '(':\n",
    "            stack.append(token)\n",
    "        elif token == ')':\n",
    "            if not stack or last_token == '(':\n",
    "                return False\n",
    "            stack.pop()\n",
    "            # Ensure the next token (if any) is an operator or the end of the statement\n",
    "            if i + 1 < len(tokens) and tokens[i + 1] not in '&+>^=)':\n",
    "                return False\n",
    "        elif token == '~':\n",
    "            # Negation must be preceded by a binary operator unless it is the first token,\n",
    "            # double negation, or the negation of a paren'd sub-statement\n",
    "            if not re.fullmatch(operator_pattern, last_token) and i != 0 and tokens[i+1] != '(' and last_token != '~' and last_token != '(':\n",
    "                print(5)\n",
    "                return False\n",
    "        elif re.fullmatch(variable_pattern, token):\n",
    "            if re.fullmatch(variable_pattern, last_token):\n",
    "                print(token)\n",
    "                return False\n",
    "        elif re.fullmatch(operator_pattern, token):\n",
    "            if re.fullmatch(operator_pattern, last_token) or last_token == '(':\n",
    "                return False\n",
    "        last_token = token\n",
    "    # Ensure all opened parentheses are closed\n",
    "    if stack:\n",
    "        return False\n",
    "        \n",
    "    return True\n",
    "\n",
    "# Example usage\n",
    "premise = 'S+P>S'\n",
    "premise = '~(B+B)'\n",
    "premise = '~A'\n",
    "if is_well_formed(premise):\n",
    "    print(f\"The premise '{premise}' is well-formed.\")\n",
    "else:\n",
    "    print(f\"The premise '{premise}' is not well-formed.\")\n"
   ]
  },
  {
   "cell_type": "code",
   "execution_count": 26,
   "id": "0b5b4401-ce74-4368-9770-e96a987fd1ac",
   "metadata": {},
   "outputs": [
    {
     "name": "stdout",
     "output_type": "stream",
     "text": [
      "5\n",
      "All tests passed.\n"
     ]
    }
   ],
   "source": [
    "# Test suite in a dictionary\n",
    "test_cases = {\n",
    "    # Valid propositions\n",
    "    'A': True,\n",
    "    'A+B': True,\n",
    "    'A+B&C': True,\n",
    "    '(A+B)&C': True,\n",
    "    'A>(B&C)': True,\n",
    "    'A>(B=C)': True,\n",
    "    'A>(B>C)': True,\n",
    "    '~A': True,\n",
    "    '~(A&B)': True,\n",
    "    '((A))': True,\n",
    "    'A+(B&C^D)': True,\n",
    "    'A>(B>(C>(D)))': True,\n",
    "    '(A>B)=C': True,\n",
    "    '~(A+B)': True,\n",
    "    'A^B&C+D>E': True,\n",
    "    'A=B=C': True,\n",
    "    \n",
    "    # Invalid propositions\n",
    "    '': False,  # Empty string\n",
    "    'A+B&': False,  # Ends with an operator\n",
    "    '&A+B': False,  # Starts with an operator\n",
    "    'A+(B&C': False,  # Unmatched parentheses\n",
    "    'A+(B&C))': False,  # Unmatched parentheses\n",
    "    'A~B': False,  # Misplaced negation\n",
    "    'A++B': False,  # Consecutive operators\n",
    "    'A B': False,  # Missing operator\n",
    "    'A+': False,  # Ends with operator\n",
    "    '(A+B))': False,  # Unmatched parentheses\n",
    "    '(A+B)(C+D)': False,  # Missing operator between sub-expressions\n",
    "    '~~A': True,  # Valid double negation\n",
    "    'A+~B': True,  # Negation before variable\n",
    "    '(A+~B)': True,  # Negation within parentheses\n",
    "    'A>(B+C)=D': True,  # Mixed operators\n",
    "    'A>>B': False,  # Double implication\n",
    "    'A=>(B+C)': False,  # Invalid combination of operators\n",
    "    'A&(B)': True,  # Valid use of parentheses\n",
    "    '~(A)': True,  # Valid negation with parentheses\n",
    "    'A+B C': False,  # Missing operator between variables\n",
    "    'A&~': False,  # Ends with negation\n",
    "}\n",
    "\n",
    "# Example of running the test suite\n",
    "for premise, expected in test_cases.items():\n",
    "    result = is_well_formed(premise)\n",
    "    assert result == expected, f\"Test failed for premise '{premise}'. Expected {expected} but got {result}.\"\n",
    "print(\"All tests passed.\")"
   ]
  },
  {
   "cell_type": "code",
   "execution_count": 27,
   "id": "5c9ec8e7-8bb1-431c-a3b7-d041ec83d0c3",
   "metadata": {},
   "outputs": [],
   "source": [
    "import itertools\n",
    "\n",
    "def tokenize(statement):\n",
    "    variable_pattern = r'[A-Z]'\n",
    "    operator_pattern = r'[&+>^=]'\n",
    "    valid_pattern = rf'{variable_pattern}|{operator_pattern}|[()]|~'\n",
    "    return re.findall(valid_pattern, statement)\n",
    "# I tried to find a way to do this without converting to postfix notation,\n",
    "# but nothing worked as well as this\n",
    "def evaluate_statement(statement, truth_values):\n",
    "    def eval_tokens(tokens):\n",
    "        stack = []\n",
    "        for token in tokens:\n",
    "            if token in truth_values:\n",
    "                stack.append(truth_values[token])\n",
    "            elif token == '~':\n",
    "                stack.append(not stack.pop())\n",
    "            elif token in ('&', '+', '>', '^', '='):\n",
    "                b = stack.pop()\n",
    "                a = stack.pop()\n",
    "                if token == '&':\n",
    "                    stack.append(a and b)\n",
    "                elif token == '+':\n",
    "                    stack.append(a or b)\n",
    "                elif token == '>':\n",
    "                    stack.append(not a or b)\n",
    "                elif token == '^':\n",
    "                    stack.append(a != b)\n",
    "                elif token == '=':\n",
    "                    stack.append(a == b)\n",
    "        return stack.pop()\n",
    "    \n",
    "    tokens = tokenize(statement)\n",
    "    output = []\n",
    "    operators = []\n",
    "    precedence = {'~': 3, '&': 2, '+': 1, '>': 0, '^': 0, '=': 0, '(': -1, ')': -1}\n",
    "    \n",
    "    for token in tokens:\n",
    "        if re.fullmatch(r'[A-Z]', token):\n",
    "            output.append(token)\n",
    "        elif token == '(':\n",
    "            operators.append(token)\n",
    "        elif token == ')':\n",
    "            while operators and operators[-1] != '(':\n",
    "                output.append(operators.pop())\n",
    "            operators.pop()\n",
    "        else:\n",
    "            while (operators and \n",
    "                   precedence[operators[-1]] >= precedence[token]):\n",
    "                output.append(operators.pop())\n",
    "            operators.append(token)\n",
    "    \n",
    "    while operators:\n",
    "        output.append(operators.pop())\n",
    "    \n",
    "    return eval_tokens(output)\n",
    "\n",
    "def generate_truth_table(variables):\n",
    "    return [dict(zip(variables, values)) for values in itertools.product([True, False], repeat=len(variables))]\n",
    "\n",
    "def check_validity(premises, conclusion):\n",
    "    all_statements = premises + [conclusion]\n",
    "    variables = sorted(set(token for stmt in all_statements for token in tokenize(stmt) if re.fullmatch(r'[A-Z]', token)))\n",
    "    truth_table = generate_truth_table(variables)\n",
    "    \n",
    "    for truth_values in truth_table:\n",
    "        premises_truth = all(evaluate_statement(p, truth_values) for p in premises)\n",
    "        conclusion_truth = evaluate_statement(conclusion, truth_values)\n",
    "        if premises_truth and not conclusion_truth:\n",
    "            return False\n",
    "    return True"
   ]
  },
  {
   "cell_type": "code",
   "execution_count": 28,
   "id": "ec522988-0581-432a-b566-37f20ab6d49a",
   "metadata": {},
   "outputs": [],
   "source": [
    "def check_user_argument(premises, conclusion):\n",
    "    not_well_formed_premises = ''\n",
    "    for premise in premises:\n",
    "        if not is_well_formed(premise):\n",
    "            not_well_formed_premises += f'Premise {premise} is not well-formed.\\n'\n",
    "    if not_well_formed_premises:\n",
    "        return False, not_well_formed_premises\n",
    "    if not is_well_formed(conclusion):\n",
    "        return False, f'Conclusion {conclusion} is not well-formed.\\n'\n",
    "    argument_valid = check_validity(premises, conclusion)\n",
    "    return argument_valid, f'The inputted argument is{\"\" if argument_valid else \" not\"} valid.'\n",
    "            "
   ]
  },
  {
   "cell_type": "code",
   "execution_count": 29,
   "id": "2927490c-f1e9-41d6-bdce-f702ef407d35",
   "metadata": {},
   "outputs": [
    {
     "name": "stdout",
     "output_type": "stream",
     "text": [
      "The inputted argument is not valid.\n"
     ]
    }
   ],
   "source": [
    "# Example usage\n",
    "premises = ['(A>B)>(~A+B)', 'A']\n",
    "conclusion = '~A+B'\n",
    "print(check_user_argument(premises, conclusion)[1])"
   ]
  },
  {
   "cell_type": "code",
   "execution_count": 41,
   "id": "6ea0d289-754c-4877-897c-4bd43d20fb52",
   "metadata": {},
   "outputs": [
    {
     "name": "stdout",
     "output_type": "stream",
     "text": [
      "Starting ManipuLogic command line mode.\n",
      "Usage: enter in your premises, then enter in your conclusion.\n",
      "    Special commands are:\n",
      "    - exit : exits the program entirely\n",
      "    - done : stipulates to end the entry of premises.\n",
      "The script will determine if your argument is logically valid according to classical propositional logic.\n",
      "\n",
      "Start entering your premises.\n",
      "\n"
     ]
    },
    {
     "name": "stdin",
     "output_type": "stream",
     "text": [
      "Enter premise #1: P>Q=~Q>~P\n"
     ]
    },
    {
     "name": "stdout",
     "output_type": "stream",
     "text": [
      "Premise P>Q=~Q>~P is well formed.\n"
     ]
    },
    {
     "name": "stdin",
     "output_type": "stream",
     "text": [
      "Enter premise #2: P\n"
     ]
    },
    {
     "name": "stdout",
     "output_type": "stream",
     "text": [
      "Premise P is well formed.\n"
     ]
    },
    {
     "name": "stdin",
     "output_type": "stream",
     "text": [
      "Enter premise #2: ~Q>~P\n"
     ]
    },
    {
     "name": "stdout",
     "output_type": "stream",
     "text": [
      "Premise ~Q>~P is well formed.\n"
     ]
    },
    {
     "name": "stdin",
     "output_type": "stream",
     "text": [
      "Enter premise #2: done\n",
      "Done entering premises.  All premises are well-formed.  Enter your conclusion Q\n"
     ]
    },
    {
     "name": "stdout",
     "output_type": "stream",
     "text": [
      "Your argument is valid\n",
      "\n",
      "Starting new argument.  Type \"exit\" to quit this program\n",
      "Exiting Manipulogic Command line mode\n",
      "Start entering your premises.\n",
      "\n"
     ]
    },
    {
     "name": "stdin",
     "output_type": "stream",
     "text": [
      "Enter premise #1: exit\n"
     ]
    },
    {
     "name": "stdout",
     "output_type": "stream",
     "text": [
      "Exiting Manipulogic Command line mode\n"
     ]
    }
   ],
   "source": [
    "def start_command_line_mode():\n",
    "    print('Starting ManipuLogic command line mode.')\n",
    "    print('''Usage: enter in your premises, then enter in your conclusion.\n",
    "    Special commands are:\n",
    "    - exit : exits the program entirely\n",
    "    - done : stipulates to end the entry of premises.\n",
    "The script will determine if your argument is logically valid according to classical propositional logic.\n",
    "''')\n",
    "    \n",
    "    in_str = ''\n",
    "    while in_str != 'exit':    \n",
    "        well_formed_premises = []\n",
    "        all_premises_well_formed = True\n",
    "        conclusion = ''\n",
    "        print('Start entering your premises.\\n')\n",
    "        in_str = input('Enter premise #1:')\n",
    "        while in_str not in ('exit', 'done'):\n",
    "            stripped = in_str.strip()\n",
    "            if is_well_formed(stripped):\n",
    "                print(f'Premise {stripped} is well formed.')\n",
    "                well_formed_premises.append(stripped)\n",
    "            else:\n",
    "                print(f'Premise {stripped} is not well formed.  Check your syntax and try again')\n",
    "                all_premises_well_formed = False\n",
    "            in_str = input(f'Enter premise #{len(premises)}:')\n",
    "        if not all_premises_well_formed:\n",
    "            in_str = 'exit'\n",
    "            break\n",
    "        if in_str != 'exit':\n",
    "            in_str = input('Done entering premises.  All premises are well-formed.  Enter your conclusion')\n",
    "            if in_str != 'exit':\n",
    "                stripped = in_str.strip()\n",
    "                if is_well_formed(stripped):\n",
    "                    conclusion = stripped\n",
    "                else:\n",
    "                    print(f'Conclusion {stripped} is not well formed.  Check your syntax and try again')\n",
    "                    in_str = 'exit'\n",
    "        if in_str != 'exit':\n",
    "            print(f'***Your argument is {\"\" if check_user_argument(well_formed_premises, conclusion) else \" not\"}valid***\\n')\n",
    "            print('Starting new argument.  Type \"exit\" to quit this program')\n",
    "        print('Exiting Manipulogic Command line mode')     \n",
    "        \n",
    "start_command_line_mode()"
   ]
  },
  {
   "cell_type": "code",
   "execution_count": null,
   "id": "4ac8ef05-d9d8-4f0d-afca-89512d28f9aa",
   "metadata": {},
   "outputs": [],
   "source": []
  }
 ],
 "metadata": {
  "kernelspec": {
   "display_name": "Python 3 (ipykernel)",
   "language": "python",
   "name": "python3"
  },
  "language_info": {
   "codemirror_mode": {
    "name": "ipython",
    "version": 3
   },
   "file_extension": ".py",
   "mimetype": "text/x-python",
   "name": "python",
   "nbconvert_exporter": "python",
   "pygments_lexer": "ipython3",
   "version": "3.10.11"
  }
 },
 "nbformat": 4,
 "nbformat_minor": 5
}
